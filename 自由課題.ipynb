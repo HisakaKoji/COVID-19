{
  "nbformat": 4,
  "nbformat_minor": 0,
  "metadata": {
    "colab": {
      "name": "Untitled118.ipynb",
      "provenance": [],
      "authorship_tag": "ABX9TyOOc6g8HZoaecV1LDGhixLp",
      "include_colab_link": true
    },
    "kernelspec": {
      "name": "python3",
      "display_name": "Python 3"
    },
    "accelerator": "GPU"
  },
  "cells": [
    {
      "cell_type": "markdown",
      "metadata": {
        "id": "view-in-github",
        "colab_type": "text"
      },
      "source": [
        "<a href=\"https://colab.research.google.com/github/HisakaKoji/COVID-19/blob/master/%E8%87%AA%E7%94%B1%E8%AA%B2%E9%A1%8C.ipynb\" target=\"_parent\"><img src=\"https://colab.research.google.com/assets/colab-badge.svg\" alt=\"Open In Colab\"/></a>"
      ]
    },
    {
      "cell_type": "markdown",
      "metadata": {
        "id": "_1hOzdajXUth",
        "colab_type": "text"
      },
      "source": [
        "## 事前準備\n",
        "# ・事前にsettings.py にTwitterのトークンを設定。\n",
        "\n",
        "# ・tweets_open.csvを同じディレクトに置く。\n",
        "　　こちらからダウンロード　　http://www.db.info.gifu-u.ac.jp/data/tweets_open.csv.bz2"
      ]
    },
    {
      "cell_type": "code",
      "metadata": {
        "colab_type": "code",
        "id": "0MwIwhrFVuUv",
        "colab": {
          "base_uri": "https://localhost:8080/",
          "height": 867
        },
        "outputId": "178edb6d-f94e-43a3-8e0a-af51a64c6e6e"
      },
      "source": [
        "from requests_oauthlib import OAuth1Session\n",
        "import json\n",
        "import itertools\n",
        "import pickle\n",
        "from time import sleep\n",
        "import pandas as pd\n",
        "import argparse\n",
        "import settings\n",
        "\n",
        "\n",
        "CK = settings.CK # Consumer Key\n",
        "CS = settings.CS # Consumer Secret\n",
        "AT = settings.AT # Access Token\n",
        "AS = settings.AS # Accesss Token Secert\n",
        "\n",
        "session = OAuth1Session(CK, CS, AT, AS)\n",
        " \n",
        "url = 'https://api.twitter.com/1.1/statuses/lookup.json?id='\n",
        "\n",
        "def getTweets(tweetIds):\n",
        "\n",
        "    tweetIds = ','.join(list(map(str,tweetIds)))\n",
        "\n",
        "    url  = 'https://api.twitter.com/1.1/statuses/lookup.json?id='+tweetIds+'&include_entities=true&trim_user=false&map=false'\n",
        "    res = session.get(url)\n",
        "     \n",
        "    if res.status_code != 200:\n",
        "        print (\"Twitter API Error: %d\" % res.status_code)\n",
        "        sys.exit(1)\n",
        "     \n",
        "    resText = json.loads(res.text)\n",
        "\n",
        "    data = {str(rt['id']):rt['text'] for rt in resText}\n",
        "\n",
        "    return data\n",
        "\n",
        "def extruct():\n",
        "    df = pd.read_csv('tweets_open.csv',header=None)\n",
        "    df.loc[:,2] = df.loc[:,2].astype(str)\n",
        "\n",
        "    anno = df.values.tolist()\n",
        "\n",
        "    alldata = []\n",
        "\n",
        "    for i,batch in enumerate(itertools.zip_longest(*[iter(anno)]*100)):\n",
        "        print('%d/%d'%(i+1,len(anno)//100))\n",
        "        batch = [b for b in batch if b is not None]\n",
        "\n",
        "        tweets = getTweets([line[2] for line in batch])\n",
        "\n",
        "        for line in batch:\n",
        "\n",
        "            data = {'id':line[0],\n",
        "                    'topic':line[1],\n",
        "                    'status':line[2],\n",
        "                    'label':line[3:],\n",
        "                    'text':tweets[line[2]] if line[2] in tweets else ''\n",
        "                   }\n",
        "            df['text'] = tweets[line[2]] if line[2] in tweets else ''\n",
        "\n",
        "        \n",
        "        # sleep\n",
        "   #     sleep(0.25)\n",
        "        \n",
        "    df.to_csv('hisaka.csv')\n",
        "    pickle.dump(alldata, open('twitterJSA_data.pickle','wb'))\n",
        "    json.dump(alldata, open('twitterJSA_data.json','w'))\n",
        "\n",
        "extruct()"
      ],
      "execution_count": null,
      "outputs": [
        {
          "output_type": "stream",
          "text": [
            "1/5349\n",
            "2/5349\n",
            "3/5349\n",
            "4/5349\n",
            "5/5349\n",
            "6/5349\n",
            "7/5349\n",
            "8/5349\n",
            "9/5349\n",
            "10/5349\n",
            "11/5349\n",
            "12/5349\n",
            "13/5349\n",
            "14/5349\n",
            "15/5349\n",
            "16/5349\n",
            "17/5349\n",
            "18/5349\n",
            "19/5349\n",
            "20/5349\n",
            "21/5349\n",
            "22/5349\n",
            "23/5349\n",
            "24/5349\n",
            "25/5349\n",
            "26/5349\n",
            "27/5349\n",
            "28/5349\n",
            "29/5349\n",
            "30/5349\n",
            "31/5349\n",
            "32/5349\n",
            "33/5349\n",
            "34/5349\n",
            "35/5349\n",
            "36/5349\n",
            "37/5349\n",
            "38/5349\n",
            "39/5349\n",
            "40/5349\n",
            "41/5349\n",
            "42/5349\n",
            "43/5349\n",
            "44/5349\n",
            "45/5349\n",
            "46/5349\n",
            "47/5349\n",
            "48/5349\n",
            "49/5349\n",
            "50/5349\n"
          ],
          "name": "stdout"
        }
      ]
    },
    {
      "cell_type": "code",
      "metadata": {
        "id": "3kx4FF3pNhf5",
        "colab_type": "code",
        "colab": {}
      },
      "source": [
        "!pip install janome"
      ],
      "execution_count": null,
      "outputs": []
    },
    {
      "cell_type": "markdown",
      "metadata": {
        "id": "oNJFM-bUXTve",
        "colab_type": "text"
      },
      "source": [
        ""
      ]
    }
  ]
}